{
  "cells": [
    {
      "cell_type": "code",
      "execution_count": null,
      "metadata": {
        "gather": {
          "logged": 1625058700207
        }
      },
      "outputs": [],
      "source": [
        "import numpy as np\n",
        "from sklearn.datasets import make_friedman2, make_regression\n",
        "from sklearn.pipeline import make_pipeline\n",
        "from sklearn.model_selection import train_test_split\n",
        "from xgboost import XGBRegressor\n",
        "from sklearn.model_selection import KFold\n",
        "from sklearn.model_selection import cross_val_score\n",
        "from sklearn.metrics import mean_squared_error\n",
        "import matplotlib.pyplot as plt\n",
        "import pandas as pd\n",
        "import seaborn as sns\n",
        "from sklearn.datasets import load_boston\n",
        "from sklearn.feature_selection import SelectKBest, f_classif"
      ]
    },
    {
      "cell_type": "code",
      "execution_count": null,
      "metadata": {
        "gather": {
          "logged": 1624258931804
        }
      },
      "outputs": [],
      "source": [
        "data = pd.read_csv('data/dataset.csv')\n",
        "y = data[['label']]\n",
        "X = data.drop(['label'], axis=1)\n",
        "X.head()"
      ]
    },
    {
      "cell_type": "code",
      "execution_count": null,
      "metadata": {
        "collapsed": true,
        "gather": {
          "logged": 1623756567828
        },
        "jupyter": {
          "outputs_hidden": false,
          "source_hidden": false
        },
        "nteract": {
          "transient": {
            "deleting": false
          }
        }
      },
      "outputs": [],
      "source": [
        "X_train_pre = pd.read_csv('data/X_train_pre.csv')\n",
        "X_test_pre = pd.read_csv('data/X_test_pre.csv')\n",
        "y_train_pre = pd.read_csv('data/y_train_pre.csv')\n",
        "y_test_pre = pd.read_csv('data/y_test_pre.csv')\n",
        "X_pre = pd.concat([X_train_pre, X_test_pre])\n",
        "y_pre = pd.concat([y_train_pre, y_test_pre])"
      ]
    },
    {
      "cell_type": "code",
      "execution_count": null,
      "metadata": {
        "gather": {
          "logged": 1624258950240
        }
      },
      "outputs": [],
      "source": [
        "plt.figure(figsize=(12,10))\n",
        "cor = data.corr()\n",
        "sns.heatmap(cor, annot=True, cmap=plt.cm.Reds)\n",
        "plt.show()"
      ]
    },
    {
      "cell_type": "code",
      "execution_count": null,
      "metadata": {
        "collapsed": true,
        "gather": {
          "logged": 1623756682324
        },
        "jupyter": {
          "outputs_hidden": false,
          "source_hidden": false
        },
        "nteract": {
          "transient": {
            "deleting": false
          }
        }
      },
      "outputs": [],
      "source": [
        "# Find k best features\n",
        "selector = SelectKBest(f_classif, k=10)\n",
        "\n",
        "selected_data = selector.fit_transform(X, y)\n",
        "selected_features = pd.DataFrame(selector.inverse_transform(selected_data), \n",
        "                                 index=data.index, \n",
        "                                 columns=X.columns)\n",
        "\n",
        "selected_columns = selected_features.columns[selected_features.var() != 0]\n",
        "selected_features[selected_columns].head()"
      ]
    },
    {
      "cell_type": "code",
      "execution_count": null,
      "metadata": {
        "collapsed": true,
        "gather": {
          "logged": 1623756714397
        },
        "jupyter": {
          "outputs_hidden": false,
          "source_hidden": false
        },
        "nteract": {
          "transient": {
            "deleting": false
          }
        }
      },
      "outputs": [],
      "source": [
        "# Find k best features\n",
        "selector = SelectKBest(f_classif, k=10)\n",
        "\n",
        "selected_data = selector.fit_transform(X_pre, y_pre)\n",
        "selected_features = pd.DataFrame(selector.inverse_transform(selected_data), \n",
        "                                 index=data.index, \n",
        "                                 columns=X_pre.columns)\n",
        "\n",
        "selected_columns = selected_features.columns[selected_features.var() != 0]\n",
        "selected_features[selected_columns].head()"
      ]
    },
    {
      "cell_type": "code",
      "execution_count": null,
      "metadata": {
        "collapsed": true,
        "gather": {
          "logged": 1625058705109
        },
        "jupyter": {
          "outputs_hidden": false,
          "source_hidden": false
        },
        "nteract": {
          "transient": {
            "deleting": false
          }
        }
      },
      "outputs": [],
      "source": [
        "data = pd.read_csv('data/data_test.csv')"
      ]
    },
    {
      "cell_type": "code",
      "execution_count": null,
      "metadata": {
        "collapsed": true,
        "gather": {
          "logged": 1625059741490
        },
        "jupyter": {
          "outputs_hidden": false,
          "source_hidden": false
        },
        "nteract": {
          "transient": {
            "deleting": false
          }
        }
      },
      "outputs": [],
      "source": [
        "df1 = data\n",
        "# removing rows with more than % missing values\n",
        "limitPer = len(df1.columns) * 0.5\n",
        "df2 = df1.dropna(thresh=limitPer, axis=0) # thresh: Require that many non-NA values.\n",
        "print(\"Number of Missing Columns: {}\".format(limitPer))\n",
        "print(\"Shape of Data Frame #1: {}\".format(df1.shape))\n",
        "print(\"Shape of Data Frame #2: {}\".format(df2.shape))"
      ]
    },
    {
      "cell_type": "code",
      "execution_count": null,
      "metadata": {
        "collapsed": true,
        "gather": {
          "logged": 1625059164333
        },
        "jupyter": {
          "outputs_hidden": false,
          "source_hidden": false
        },
        "nteract": {
          "transient": {
            "deleting": false
          }
        }
      },
      "outputs": [],
      "source": [
        "data['PHOS'].max()"
      ]
    }
  ],
  "metadata": {
    "kernel_info": {
      "name": "python38-azureml"
    },
    "kernelspec": {
      "display_name": "Python 3.8 - AzureML",
      "language": "python",
      "name": "python38-azureml"
    },
    "language_info": {
      "codemirror_mode": {
        "name": "ipython",
        "version": 3
      },
      "file_extension": ".py",
      "mimetype": "text/x-python",
      "name": "python",
      "nbconvert_exporter": "python",
      "pygments_lexer": "ipython3",
      "version": "3.8.1"
    },
    "microsoft": {
      "host": {
        "AzureML": {
          "notebookHasBeenCompleted": true
        }
      }
    },
    "nteract": {
      "version": "nteract-front-end@1.0.0"
    },
    "orig_nbformat": 2
  },
  "nbformat": 4,
  "nbformat_minor": 2
}
