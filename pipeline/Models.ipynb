{
  "cells": [
    {
      "cell_type": "code",
      "source": [
        "import numpy as np\r\n",
        "\r\n",
        "import pandas as pd\r\n",
        "import matplotlib.pyplot as plt\r\n",
        "\r\n",
        "from sklearn.datasets import make_friedman2, make_regression\r\n",
        "from sklearn.preprocessing import StandardScaler, MinMaxScaler, RobustScaler, LabelBinarizer, OneHotEncoder\r\n",
        "from sklearn.linear_model import LinearRegression, SGDRegressor, ElasticNet, RidgeCV\r\n",
        "from sklearn.ensemble import RandomForestRegressor, BaggingRegressor, GradientBoostingRegressor,VotingRegressor, StackingRegressor\r\n",
        "from sklearn.tree import DecisionTreeRegressor\r\n",
        "from sklearn.metrics import mean_squared_error, mean_squared_log_error, mean_absolute_error\r\n",
        "from sklearn.model_selection import KFold, cross_val_score, train_test_split\r\n",
        "from sklearn.svm import LinearSVR\r\n",
        "from sklearn.gaussian_process import GaussianProcessRegressor\r\n",
        "from sklearn.gaussian_process.kernels import DotProduct, WhiteKernel\r\n",
        "from sklearn.pipeline import Pipeline, FeatureUnion, make_pipeline, make_union\r\n",
        "from sklearn.base import BaseEstimator, TransformerMixin\r\n",
        "\r\n",
        "from xgboost import XGBRegressor\r\n",
        "from lightgbm import LGBMRegressor\r\n",
        "from catboost import CatBoostRegressor"
      ],
      "outputs": [],
      "execution_count": 1,
      "metadata": {
        "gather": {
          "logged": 1624515366275
        }
      }
    },
    {
      "cell_type": "code",
      "source": [
        "pd.options.display.max_columns = None\r\n",
        "\r\n",
        "cv = KFold(n_splits=5)\r\n",
        "simple_pre_flag = True\r\n",
        "scale_data = False\r\n",
        "\r\n",
        "cat_cols = ['Neutered/Spayed', 'Gender', 'MIXED_BREED_FLAG', 'BREED', 'neuter_dt']\r\n",
        "num_cols = ['ALB', 'ALKP', 'ALT', 'AMYL', 'BUN', 'CA', 'CHOL', 'CREA', 'EOSINOPHIL', 'GLOB', 'GLU',\r\n",
        "       'HCT', 'HGB', 'LYMPHOCYTE', 'MCH', 'MCHC', 'MCV', 'MONOCYTE', 'MPV',\r\n",
        "       'PHOS', 'PLT', 'RBC', 'RDW', 'TBIL', 'TP', 'WBC']"
      ],
      "outputs": [],
      "execution_count": 2,
      "metadata": {
        "gather": {
          "logged": 1624515366419
        }
      }
    },
    {
      "cell_type": "code",
      "source": [
        "if simple_pre_flag:\r\n",
        "    X_train = pd.read_csv('data/X_train_pre_simple.csv')\r\n",
        "    X_test = pd.read_csv('data/X_test_pre_simple.csv')\r\n",
        "    y_train = pd.read_csv('data/y_train_pre_simple.csv').to_numpy()\r\n",
        "    y_test = pd.read_csv('data/y_test_pre_simple.csv').to_numpy()\r\n",
        "\r\n",
        "else:\r\n",
        "    X_train = pd.read_csv('data/X_train_pre.csv')\r\n",
        "    X_test = pd.read_csv('data/X_test_pre.csv')\r\n",
        "    y_train = pd.read_csv('data/y_train_pre.csv').to_numpy()\r\n",
        "    y_test = pd.read_csv('data/y_test_pre.csv').to_numpy()\r\n",
        "\r\n",
        "X_train.head()"
      ],
      "outputs": [
        {
          "output_type": "execute_result",
          "execution_count": 3,
          "data": {
            "text/plain": "   MIXED_BREED_FLAG_0  MIXED_BREED_FLAG_1  BREED_0  BREED_1  BREED_2  BREED_3  \\\n0                 1.0                 0.0      1.0      0.0      0.0      0.0   \n1                 0.0                 1.0      0.0      1.0      0.0      0.0   \n2                 1.0                 0.0      1.0      0.0      0.0      0.0   \n3                 1.0                 0.0      1.0      0.0      0.0      0.0   \n4                -1.0                -1.0      0.0      1.0      0.0      0.0   \n\n   BREED_4  BREED_5  BREED_6  BREED_7  BREED_8  BREED_9  BREED_10  BREED_11  \\\n0      0.0      0.0      0.0      0.0      0.0      0.0       0.0       0.0   \n1      0.0      0.0      0.0      0.0      0.0      0.0       0.0       0.0   \n2      0.0      0.0      0.0      0.0      0.0      0.0       0.0       0.0   \n3      0.0      0.0      0.0      0.0      0.0      0.0       0.0       0.0   \n4      0.0      0.0      0.0      0.0      0.0      0.0       0.0       0.0   \n\n   BREED_12  BREED_13  BREED_14  BREED_15  BREED_16  BREED_17  BREED_18  \\\n0       0.0       0.0       0.0       0.0       0.0       0.0       0.0   \n1       0.0       0.0       0.0       0.0       0.0       0.0       0.0   \n2       0.0       0.0       0.0       0.0       0.0       0.0       0.0   \n3       0.0       0.0       0.0       0.0       0.0       0.0       0.0   \n4       0.0       0.0       0.0       0.0       0.0       0.0       0.0   \n\n   BREED_19  BREED_20  BREED_21  BREED_22  BREED_23  BREED_24  BREED_25  \\\n0       0.0       0.0       0.0       0.0       0.0       0.0       0.0   \n1       0.0       0.0       0.0       0.0       0.0       0.0       0.0   \n2       0.0       0.0       0.0       0.0       0.0       0.0       0.0   \n3       0.0       0.0       0.0       0.0       0.0       0.0       0.0   \n4       0.0       0.0       0.0       0.0       0.0       0.0       0.0   \n\n   BREED_26  BREED_27  BREED_28  BREED_29  BREED_30  BREED_31  BREED_32  \\\n0       0.0       0.0       0.0       0.0       0.0       0.0       0.0   \n1       0.0       0.0       0.0       0.0       0.0       0.0       0.0   \n2       0.0       0.0       0.0       0.0       0.0       0.0       0.0   \n3       0.0       0.0       0.0       0.0       0.0       0.0       0.0   \n4       0.0       0.0       0.0       0.0       0.0       0.0       0.0   \n\n   BREED_33  BREED_34  BREED_35  BREED_36  BREED_37  BREED_38  BREED_39  \\\n0       0.0       0.0       0.0       0.0       0.0       0.0       0.0   \n1       0.0       0.0       0.0       0.0       0.0       0.0       0.0   \n2       0.0       0.0       0.0       0.0       0.0       0.0       0.0   \n3       0.0       0.0       0.0       0.0       0.0       0.0       0.0   \n4       0.0       0.0       0.0       0.0       0.0       0.0       0.0   \n\n   BREED_40  BREED_41  BREED_42  BREED_43  BREED_44  BREED_45  BREED_46  \\\n0       0.0       0.0       0.0       0.0       0.0       0.0       0.0   \n1       0.0       0.0       0.0       0.0       0.0       0.0       0.0   \n2       0.0       0.0       0.0       0.0       0.0       0.0       0.0   \n3       0.0       0.0       0.0       0.0       0.0       0.0       0.0   \n4       0.0       0.0       0.0       0.0       0.0       0.0       0.0   \n\n   BREED_47  BREED_48  BREED_49  BREED_50  BREED_51  BREED_52  BREED_53  \\\n0       0.0       0.0       0.0       0.0       0.0       0.0       0.0   \n1       0.0       0.0       0.0       0.0       0.0       0.0       0.0   \n2       0.0       0.0       0.0       0.0       0.0       0.0       0.0   \n3       0.0       0.0       0.0       0.0       0.0       0.0       0.0   \n4       0.0       0.0       0.0       0.0       0.0       0.0       0.0   \n\n   BREED_54  BREED_55  BREED_56  BREED_57  BREED_58  BREED_59  BREED_60  \\\n0       0.0       0.0       0.0       0.0       0.0       0.0       0.0   \n1       0.0       0.0       0.0       0.0       0.0       0.0       0.0   \n2       0.0       0.0       0.0       0.0       0.0       0.0       0.0   \n3       0.0       0.0       0.0       0.0       0.0       0.0       0.0   \n4       0.0       0.0       0.0       0.0       0.0       0.0       0.0   \n\n   BREED_61  BREED_62  BREED_63  BREED_64  BREED_65  BREED_66  BREED_67  \\\n0       0.0       0.0       0.0       0.0       0.0       0.0       0.0   \n1       0.0       0.0       0.0       0.0       0.0       0.0       0.0   \n2       0.0       0.0       0.0       0.0       0.0       0.0       0.0   \n3       0.0       0.0       0.0       0.0       0.0       0.0       0.0   \n4       0.0       0.0       0.0       0.0       0.0       0.0       0.0   \n\n   BREED_68  BREED_69  BREED_70  BREED_71  BREED_72  BREED_73  BREED_74  \\\n0       0.0       0.0       0.0       0.0       0.0       0.0       0.0   \n1       0.0       0.0       0.0       0.0       0.0       0.0       0.0   \n2       0.0       0.0       0.0       0.0       0.0       0.0       0.0   \n3       0.0       0.0       0.0       0.0       0.0       0.0       0.0   \n4       0.0       0.0       0.0       0.0       0.0       0.0       0.0   \n\n   BREED_75  BREED_76  BREED_77  BREED_78  BREED_79  BREED_80  BREED_81  \\\n0       0.0       0.0       0.0       0.0       0.0       0.0       0.0   \n1       0.0       0.0       0.0       0.0       0.0       0.0       0.0   \n2       0.0       0.0       0.0       0.0       0.0       0.0       0.0   \n3       0.0       0.0       0.0       0.0       0.0       0.0       0.0   \n4       0.0       0.0       0.0       0.0       0.0       0.0       0.0   \n\n   BREED_82  BREED_83  BREED_84  BREED_85  BREED_86  BREED_87  BREED_88  \\\n0       0.0       0.0       0.0       0.0       0.0       0.0       0.0   \n1       0.0       0.0       0.0       0.0       0.0       0.0       0.0   \n2       0.0       0.0       0.0       0.0       0.0       0.0       0.0   \n3       0.0       0.0       0.0       0.0       0.0       0.0       0.0   \n4       0.0       0.0       0.0       0.0       0.0       0.0       0.0   \n\n   BREED_89  BREED_90  BREED_91  BREED_92  BREED_93  BREED_94  neuter_dt_0  \\\n0       0.0       0.0       0.0       0.0       0.0       0.0          1.0   \n1       0.0       0.0       0.0       0.0       0.0       0.0         -1.0   \n2       0.0       0.0       0.0       0.0       0.0       0.0         -1.0   \n3       0.0       0.0       0.0       0.0       0.0       0.0          1.0   \n4       0.0       0.0       0.0       0.0       0.0       0.0          1.0   \n\n        ALB      ALKP       ALT      AMYL       BUN        CA      CHOL  \\\n0  0.565117 -0.083936  3.298568  0.055539 -0.923631  1.045984  0.639321   \n1 -1.014025  3.139680  0.555261 -0.959741 -0.690719  0.441009 -1.186900   \n2  2.144259 -0.517364 -0.391833 -0.954587 -1.389455  0.138522  1.210015   \n3  0.565117 -0.652810 -1.077660  3.802281 -0.457807 -0.466454 -1.985872   \n4 -1.014025 -0.571542  1.175771 -0.707210 -0.690719 -0.617696  0.582251   \n\n       CREA    EOSINOPHIL      GLOB       GLU       HCT           HGB  \\\n0 -0.119074  3.928146e-16  1.405175  0.291423  0.981101  7.352667e-01   \n1 -1.000346  3.928146e-16 -1.126764 -0.937075  0.000000  8.597155e-16   \n2 -0.119074 -9.681104e-01 -0.765058  0.099470 -0.146499 -2.447860e-01   \n3  0.006822 -9.681104e-01  0.320059 -0.246045 -0.941572 -7.075889e-01   \n4 -0.119074  6.385263e-02 -0.222500  1.212797  0.000000 -6.329475e-02   \n\n     LYMPHOCYTE           MCH          MCHC           MCV  MONOCYTE  \\\n0 -1.405885e-15  6.288612e-02 -4.646169e-02  4.715268e-01 -1.400820   \n1 -1.405885e-15  4.628292e-16  1.066452e-15  1.727638e-15  0.000000   \n2  2.259567e+00  4.725315e-02 -9.599132e-02  4.715268e-01 -0.535286   \n3  7.855043e-01 -2.244386e-02  1.951833e-01 -3.794750e-01  1.368889   \n4 -1.123851e+00 -9.148949e-02  1.066452e-15  1.727638e-15 -0.950742   \n\n            MPV      PHOS           PLT       RBC           RDW      TBIL  \\\n0 -4.903108e-01 -0.593610 -1.944974e+00  0.079278 -2.674955e-01  0.801551   \n1  1.207058e-15  1.676055  1.485744e-15  0.000000  2.121587e-15 -0.530343   \n2 -5.854428e-01 -0.671874 -1.396087e+00 -0.091589 -3.112883e-01  0.040468   \n3 -1.641447e-01 -0.906667  1.485744e-15 -0.133847  3.296782e-01  0.230739   \n4  1.207058e-15 -2.315424 -1.152137e+00  0.056312  6.242838e-01 -0.530343   \n\n         TP           WBC  Neutered/Spayed_0  Neutered/Spayed_1  \\\n0  1.394026  1.218854e-01                1.0                0.0   \n1 -1.410314 -4.822035e-17                1.0                0.0   \n2  0.552723 -1.778024e-01                1.0                0.0   \n3  0.412507 -8.985056e-02                0.0                1.0   \n4 -0.849446  4.859223e-02                1.0                0.0   \n\n   Neutered/Spayed_2  Gender_0  \n0                0.0       1.0  \n1                0.0       1.0  \n2                0.0       1.0  \n3                0.0      -1.0  \n4                0.0       1.0  ",
            "text/html": "<div>\n<style scoped>\n    .dataframe tbody tr th:only-of-type {\n        vertical-align: middle;\n    }\n\n    .dataframe tbody tr th {\n        vertical-align: top;\n    }\n\n    .dataframe thead th {\n        text-align: right;\n    }\n</style>\n<table border=\"1\" class=\"dataframe\">\n  <thead>\n    <tr style=\"text-align: right;\">\n      <th></th>\n      <th>MIXED_BREED_FLAG_0</th>\n      <th>MIXED_BREED_FLAG_1</th>\n      <th>BREED_0</th>\n      <th>BREED_1</th>\n      <th>BREED_2</th>\n      <th>BREED_3</th>\n      <th>BREED_4</th>\n      <th>BREED_5</th>\n      <th>BREED_6</th>\n      <th>BREED_7</th>\n      <th>BREED_8</th>\n      <th>BREED_9</th>\n      <th>BREED_10</th>\n      <th>BREED_11</th>\n      <th>BREED_12</th>\n      <th>BREED_13</th>\n      <th>BREED_14</th>\n      <th>BREED_15</th>\n      <th>BREED_16</th>\n      <th>BREED_17</th>\n      <th>BREED_18</th>\n      <th>BREED_19</th>\n      <th>BREED_20</th>\n      <th>BREED_21</th>\n      <th>BREED_22</th>\n      <th>BREED_23</th>\n      <th>BREED_24</th>\n      <th>BREED_25</th>\n      <th>BREED_26</th>\n      <th>BREED_27</th>\n      <th>BREED_28</th>\n      <th>BREED_29</th>\n      <th>BREED_30</th>\n      <th>BREED_31</th>\n      <th>BREED_32</th>\n      <th>BREED_33</th>\n      <th>BREED_34</th>\n      <th>BREED_35</th>\n      <th>BREED_36</th>\n      <th>BREED_37</th>\n      <th>BREED_38</th>\n      <th>BREED_39</th>\n      <th>BREED_40</th>\n      <th>BREED_41</th>\n      <th>BREED_42</th>\n      <th>BREED_43</th>\n      <th>BREED_44</th>\n      <th>BREED_45</th>\n      <th>BREED_46</th>\n      <th>BREED_47</th>\n      <th>BREED_48</th>\n      <th>BREED_49</th>\n      <th>BREED_50</th>\n      <th>BREED_51</th>\n      <th>BREED_52</th>\n      <th>BREED_53</th>\n      <th>BREED_54</th>\n      <th>BREED_55</th>\n      <th>BREED_56</th>\n      <th>BREED_57</th>\n      <th>BREED_58</th>\n      <th>BREED_59</th>\n      <th>BREED_60</th>\n      <th>BREED_61</th>\n      <th>BREED_62</th>\n      <th>BREED_63</th>\n      <th>BREED_64</th>\n      <th>BREED_65</th>\n      <th>BREED_66</th>\n      <th>BREED_67</th>\n      <th>BREED_68</th>\n      <th>BREED_69</th>\n      <th>BREED_70</th>\n      <th>BREED_71</th>\n      <th>BREED_72</th>\n      <th>BREED_73</th>\n      <th>BREED_74</th>\n      <th>BREED_75</th>\n      <th>BREED_76</th>\n      <th>BREED_77</th>\n      <th>BREED_78</th>\n      <th>BREED_79</th>\n      <th>BREED_80</th>\n      <th>BREED_81</th>\n      <th>BREED_82</th>\n      <th>BREED_83</th>\n      <th>BREED_84</th>\n      <th>BREED_85</th>\n      <th>BREED_86</th>\n      <th>BREED_87</th>\n      <th>BREED_88</th>\n      <th>BREED_89</th>\n      <th>BREED_90</th>\n      <th>BREED_91</th>\n      <th>BREED_92</th>\n      <th>BREED_93</th>\n      <th>BREED_94</th>\n      <th>neuter_dt_0</th>\n      <th>ALB</th>\n      <th>ALKP</th>\n      <th>ALT</th>\n      <th>AMYL</th>\n      <th>BUN</th>\n      <th>CA</th>\n      <th>CHOL</th>\n      <th>CREA</th>\n      <th>EOSINOPHIL</th>\n      <th>GLOB</th>\n      <th>GLU</th>\n      <th>HCT</th>\n      <th>HGB</th>\n      <th>LYMPHOCYTE</th>\n      <th>MCH</th>\n      <th>MCHC</th>\n      <th>MCV</th>\n      <th>MONOCYTE</th>\n      <th>MPV</th>\n      <th>PHOS</th>\n      <th>PLT</th>\n      <th>RBC</th>\n      <th>RDW</th>\n      <th>TBIL</th>\n      <th>TP</th>\n      <th>WBC</th>\n      <th>Neutered/Spayed_0</th>\n      <th>Neutered/Spayed_1</th>\n      <th>Neutered/Spayed_2</th>\n      <th>Gender_0</th>\n    </tr>\n  </thead>\n  <tbody>\n    <tr>\n      <th>0</th>\n      <td>1.0</td>\n      <td>0.0</td>\n      <td>1.0</td>\n      <td>0.0</td>\n      <td>0.0</td>\n      <td>0.0</td>\n      <td>0.0</td>\n      <td>0.0</td>\n      <td>0.0</td>\n      <td>0.0</td>\n      <td>0.0</td>\n      <td>0.0</td>\n      <td>0.0</td>\n      <td>0.0</td>\n      <td>0.0</td>\n      <td>0.0</td>\n      <td>0.0</td>\n      <td>0.0</td>\n      <td>0.0</td>\n      <td>0.0</td>\n      <td>0.0</td>\n      <td>0.0</td>\n      <td>0.0</td>\n      <td>0.0</td>\n      <td>0.0</td>\n      <td>0.0</td>\n      <td>0.0</td>\n      <td>0.0</td>\n      <td>0.0</td>\n      <td>0.0</td>\n      <td>0.0</td>\n      <td>0.0</td>\n      <td>0.0</td>\n      <td>0.0</td>\n      <td>0.0</td>\n      <td>0.0</td>\n      <td>0.0</td>\n      <td>0.0</td>\n      <td>0.0</td>\n      <td>0.0</td>\n      <td>0.0</td>\n      <td>0.0</td>\n      <td>0.0</td>\n      <td>0.0</td>\n      <td>0.0</td>\n      <td>0.0</td>\n      <td>0.0</td>\n      <td>0.0</td>\n      <td>0.0</td>\n      <td>0.0</td>\n      <td>0.0</td>\n      <td>0.0</td>\n      <td>0.0</td>\n      <td>0.0</td>\n      <td>0.0</td>\n      <td>0.0</td>\n      <td>0.0</td>\n      <td>0.0</td>\n      <td>0.0</td>\n      <td>0.0</td>\n      <td>0.0</td>\n      <td>0.0</td>\n      <td>0.0</td>\n      <td>0.0</td>\n      <td>0.0</td>\n      <td>0.0</td>\n      <td>0.0</td>\n      <td>0.0</td>\n      <td>0.0</td>\n      <td>0.0</td>\n      <td>0.0</td>\n      <td>0.0</td>\n      <td>0.0</td>\n      <td>0.0</td>\n      <td>0.0</td>\n      <td>0.0</td>\n      <td>0.0</td>\n      <td>0.0</td>\n      <td>0.0</td>\n      <td>0.0</td>\n      <td>0.0</td>\n      <td>0.0</td>\n      <td>0.0</td>\n      <td>0.0</td>\n      <td>0.0</td>\n      <td>0.0</td>\n      <td>0.0</td>\n      <td>0.0</td>\n      <td>0.0</td>\n      <td>0.0</td>\n      <td>0.0</td>\n      <td>0.0</td>\n      <td>0.0</td>\n      <td>0.0</td>\n      <td>0.0</td>\n      <td>0.0</td>\n      <td>0.0</td>\n      <td>1.0</td>\n      <td>0.565117</td>\n      <td>-0.083936</td>\n      <td>3.298568</td>\n      <td>0.055539</td>\n      <td>-0.923631</td>\n      <td>1.045984</td>\n      <td>0.639321</td>\n      <td>-0.119074</td>\n      <td>3.928146e-16</td>\n      <td>1.405175</td>\n      <td>0.291423</td>\n      <td>0.981101</td>\n      <td>7.352667e-01</td>\n      <td>-1.405885e-15</td>\n      <td>6.288612e-02</td>\n      <td>-4.646169e-02</td>\n      <td>4.715268e-01</td>\n      <td>-1.400820</td>\n      <td>-4.903108e-01</td>\n      <td>-0.593610</td>\n      <td>-1.944974e+00</td>\n      <td>0.079278</td>\n      <td>-2.674955e-01</td>\n      <td>0.801551</td>\n      <td>1.394026</td>\n      <td>1.218854e-01</td>\n      <td>1.0</td>\n      <td>0.0</td>\n      <td>0.0</td>\n      <td>1.0</td>\n    </tr>\n    <tr>\n      <th>1</th>\n      <td>0.0</td>\n      <td>1.0</td>\n      <td>0.0</td>\n      <td>1.0</td>\n      <td>0.0</td>\n      <td>0.0</td>\n      <td>0.0</td>\n      <td>0.0</td>\n      <td>0.0</td>\n      <td>0.0</td>\n      <td>0.0</td>\n      <td>0.0</td>\n      <td>0.0</td>\n      <td>0.0</td>\n      <td>0.0</td>\n      <td>0.0</td>\n      <td>0.0</td>\n      <td>0.0</td>\n      <td>0.0</td>\n      <td>0.0</td>\n      <td>0.0</td>\n      <td>0.0</td>\n      <td>0.0</td>\n      <td>0.0</td>\n      <td>0.0</td>\n      <td>0.0</td>\n      <td>0.0</td>\n      <td>0.0</td>\n      <td>0.0</td>\n      <td>0.0</td>\n      <td>0.0</td>\n      <td>0.0</td>\n      <td>0.0</td>\n      <td>0.0</td>\n      <td>0.0</td>\n      <td>0.0</td>\n      <td>0.0</td>\n      <td>0.0</td>\n      <td>0.0</td>\n      <td>0.0</td>\n      <td>0.0</td>\n      <td>0.0</td>\n      <td>0.0</td>\n      <td>0.0</td>\n      <td>0.0</td>\n      <td>0.0</td>\n      <td>0.0</td>\n      <td>0.0</td>\n      <td>0.0</td>\n      <td>0.0</td>\n      <td>0.0</td>\n      <td>0.0</td>\n      <td>0.0</td>\n      <td>0.0</td>\n      <td>0.0</td>\n      <td>0.0</td>\n      <td>0.0</td>\n      <td>0.0</td>\n      <td>0.0</td>\n      <td>0.0</td>\n      <td>0.0</td>\n      <td>0.0</td>\n      <td>0.0</td>\n      <td>0.0</td>\n      <td>0.0</td>\n      <td>0.0</td>\n      <td>0.0</td>\n      <td>0.0</td>\n      <td>0.0</td>\n      <td>0.0</td>\n      <td>0.0</td>\n      <td>0.0</td>\n      <td>0.0</td>\n      <td>0.0</td>\n      <td>0.0</td>\n      <td>0.0</td>\n      <td>0.0</td>\n      <td>0.0</td>\n      <td>0.0</td>\n      <td>0.0</td>\n      <td>0.0</td>\n      <td>0.0</td>\n      <td>0.0</td>\n      <td>0.0</td>\n      <td>0.0</td>\n      <td>0.0</td>\n      <td>0.0</td>\n      <td>0.0</td>\n      <td>0.0</td>\n      <td>0.0</td>\n      <td>0.0</td>\n      <td>0.0</td>\n      <td>0.0</td>\n      <td>0.0</td>\n      <td>0.0</td>\n      <td>0.0</td>\n      <td>0.0</td>\n      <td>-1.0</td>\n      <td>-1.014025</td>\n      <td>3.139680</td>\n      <td>0.555261</td>\n      <td>-0.959741</td>\n      <td>-0.690719</td>\n      <td>0.441009</td>\n      <td>-1.186900</td>\n      <td>-1.000346</td>\n      <td>3.928146e-16</td>\n      <td>-1.126764</td>\n      <td>-0.937075</td>\n      <td>0.000000</td>\n      <td>8.597155e-16</td>\n      <td>-1.405885e-15</td>\n      <td>4.628292e-16</td>\n      <td>1.066452e-15</td>\n      <td>1.727638e-15</td>\n      <td>0.000000</td>\n      <td>1.207058e-15</td>\n      <td>1.676055</td>\n      <td>1.485744e-15</td>\n      <td>0.000000</td>\n      <td>2.121587e-15</td>\n      <td>-0.530343</td>\n      <td>-1.410314</td>\n      <td>-4.822035e-17</td>\n      <td>1.0</td>\n      <td>0.0</td>\n      <td>0.0</td>\n      <td>1.0</td>\n    </tr>\n    <tr>\n      <th>2</th>\n      <td>1.0</td>\n      <td>0.0</td>\n      <td>1.0</td>\n      <td>0.0</td>\n      <td>0.0</td>\n      <td>0.0</td>\n      <td>0.0</td>\n      <td>0.0</td>\n      <td>0.0</td>\n      <td>0.0</td>\n      <td>0.0</td>\n      <td>0.0</td>\n      <td>0.0</td>\n      <td>0.0</td>\n      <td>0.0</td>\n      <td>0.0</td>\n      <td>0.0</td>\n      <td>0.0</td>\n      <td>0.0</td>\n      <td>0.0</td>\n      <td>0.0</td>\n      <td>0.0</td>\n      <td>0.0</td>\n      <td>0.0</td>\n      <td>0.0</td>\n      <td>0.0</td>\n      <td>0.0</td>\n      <td>0.0</td>\n      <td>0.0</td>\n      <td>0.0</td>\n      <td>0.0</td>\n      <td>0.0</td>\n      <td>0.0</td>\n      <td>0.0</td>\n      <td>0.0</td>\n      <td>0.0</td>\n      <td>0.0</td>\n      <td>0.0</td>\n      <td>0.0</td>\n      <td>0.0</td>\n      <td>0.0</td>\n      <td>0.0</td>\n      <td>0.0</td>\n      <td>0.0</td>\n      <td>0.0</td>\n      <td>0.0</td>\n      <td>0.0</td>\n      <td>0.0</td>\n      <td>0.0</td>\n      <td>0.0</td>\n      <td>0.0</td>\n      <td>0.0</td>\n      <td>0.0</td>\n      <td>0.0</td>\n      <td>0.0</td>\n      <td>0.0</td>\n      <td>0.0</td>\n      <td>0.0</td>\n      <td>0.0</td>\n      <td>0.0</td>\n      <td>0.0</td>\n      <td>0.0</td>\n      <td>0.0</td>\n      <td>0.0</td>\n      <td>0.0</td>\n      <td>0.0</td>\n      <td>0.0</td>\n      <td>0.0</td>\n      <td>0.0</td>\n      <td>0.0</td>\n      <td>0.0</td>\n      <td>0.0</td>\n      <td>0.0</td>\n      <td>0.0</td>\n      <td>0.0</td>\n      <td>0.0</td>\n      <td>0.0</td>\n      <td>0.0</td>\n      <td>0.0</td>\n      <td>0.0</td>\n      <td>0.0</td>\n      <td>0.0</td>\n      <td>0.0</td>\n      <td>0.0</td>\n      <td>0.0</td>\n      <td>0.0</td>\n      <td>0.0</td>\n      <td>0.0</td>\n      <td>0.0</td>\n      <td>0.0</td>\n      <td>0.0</td>\n      <td>0.0</td>\n      <td>0.0</td>\n      <td>0.0</td>\n      <td>0.0</td>\n      <td>0.0</td>\n      <td>0.0</td>\n      <td>-1.0</td>\n      <td>2.144259</td>\n      <td>-0.517364</td>\n      <td>-0.391833</td>\n      <td>-0.954587</td>\n      <td>-1.389455</td>\n      <td>0.138522</td>\n      <td>1.210015</td>\n      <td>-0.119074</td>\n      <td>-9.681104e-01</td>\n      <td>-0.765058</td>\n      <td>0.099470</td>\n      <td>-0.146499</td>\n      <td>-2.447860e-01</td>\n      <td>2.259567e+00</td>\n      <td>4.725315e-02</td>\n      <td>-9.599132e-02</td>\n      <td>4.715268e-01</td>\n      <td>-0.535286</td>\n      <td>-5.854428e-01</td>\n      <td>-0.671874</td>\n      <td>-1.396087e+00</td>\n      <td>-0.091589</td>\n      <td>-3.112883e-01</td>\n      <td>0.040468</td>\n      <td>0.552723</td>\n      <td>-1.778024e-01</td>\n      <td>1.0</td>\n      <td>0.0</td>\n      <td>0.0</td>\n      <td>1.0</td>\n    </tr>\n    <tr>\n      <th>3</th>\n      <td>1.0</td>\n      <td>0.0</td>\n      <td>1.0</td>\n      <td>0.0</td>\n      <td>0.0</td>\n      <td>0.0</td>\n      <td>0.0</td>\n      <td>0.0</td>\n      <td>0.0</td>\n      <td>0.0</td>\n      <td>0.0</td>\n      <td>0.0</td>\n      <td>0.0</td>\n      <td>0.0</td>\n      <td>0.0</td>\n      <td>0.0</td>\n      <td>0.0</td>\n      <td>0.0</td>\n      <td>0.0</td>\n      <td>0.0</td>\n      <td>0.0</td>\n      <td>0.0</td>\n      <td>0.0</td>\n      <td>0.0</td>\n      <td>0.0</td>\n      <td>0.0</td>\n      <td>0.0</td>\n      <td>0.0</td>\n      <td>0.0</td>\n      <td>0.0</td>\n      <td>0.0</td>\n      <td>0.0</td>\n      <td>0.0</td>\n      <td>0.0</td>\n      <td>0.0</td>\n      <td>0.0</td>\n      <td>0.0</td>\n      <td>0.0</td>\n      <td>0.0</td>\n      <td>0.0</td>\n      <td>0.0</td>\n      <td>0.0</td>\n      <td>0.0</td>\n      <td>0.0</td>\n      <td>0.0</td>\n      <td>0.0</td>\n      <td>0.0</td>\n      <td>0.0</td>\n      <td>0.0</td>\n      <td>0.0</td>\n      <td>0.0</td>\n      <td>0.0</td>\n      <td>0.0</td>\n      <td>0.0</td>\n      <td>0.0</td>\n      <td>0.0</td>\n      <td>0.0</td>\n      <td>0.0</td>\n      <td>0.0</td>\n      <td>0.0</td>\n      <td>0.0</td>\n      <td>0.0</td>\n      <td>0.0</td>\n      <td>0.0</td>\n      <td>0.0</td>\n      <td>0.0</td>\n      <td>0.0</td>\n      <td>0.0</td>\n      <td>0.0</td>\n      <td>0.0</td>\n      <td>0.0</td>\n      <td>0.0</td>\n      <td>0.0</td>\n      <td>0.0</td>\n      <td>0.0</td>\n      <td>0.0</td>\n      <td>0.0</td>\n      <td>0.0</td>\n      <td>0.0</td>\n      <td>0.0</td>\n      <td>0.0</td>\n      <td>0.0</td>\n      <td>0.0</td>\n      <td>0.0</td>\n      <td>0.0</td>\n      <td>0.0</td>\n      <td>0.0</td>\n      <td>0.0</td>\n      <td>0.0</td>\n      <td>0.0</td>\n      <td>0.0</td>\n      <td>0.0</td>\n      <td>0.0</td>\n      <td>0.0</td>\n      <td>0.0</td>\n      <td>0.0</td>\n      <td>0.0</td>\n      <td>1.0</td>\n      <td>0.565117</td>\n      <td>-0.652810</td>\n      <td>-1.077660</td>\n      <td>3.802281</td>\n      <td>-0.457807</td>\n      <td>-0.466454</td>\n      <td>-1.985872</td>\n      <td>0.006822</td>\n      <td>-9.681104e-01</td>\n      <td>0.320059</td>\n      <td>-0.246045</td>\n      <td>-0.941572</td>\n      <td>-7.075889e-01</td>\n      <td>7.855043e-01</td>\n      <td>-2.244386e-02</td>\n      <td>1.951833e-01</td>\n      <td>-3.794750e-01</td>\n      <td>1.368889</td>\n      <td>-1.641447e-01</td>\n      <td>-0.906667</td>\n      <td>1.485744e-15</td>\n      <td>-0.133847</td>\n      <td>3.296782e-01</td>\n      <td>0.230739</td>\n      <td>0.412507</td>\n      <td>-8.985056e-02</td>\n      <td>0.0</td>\n      <td>1.0</td>\n      <td>0.0</td>\n      <td>-1.0</td>\n    </tr>\n    <tr>\n      <th>4</th>\n      <td>-1.0</td>\n      <td>-1.0</td>\n      <td>0.0</td>\n      <td>1.0</td>\n      <td>0.0</td>\n      <td>0.0</td>\n      <td>0.0</td>\n      <td>0.0</td>\n      <td>0.0</td>\n      <td>0.0</td>\n      <td>0.0</td>\n      <td>0.0</td>\n      <td>0.0</td>\n      <td>0.0</td>\n      <td>0.0</td>\n      <td>0.0</td>\n      <td>0.0</td>\n      <td>0.0</td>\n      <td>0.0</td>\n      <td>0.0</td>\n      <td>0.0</td>\n      <td>0.0</td>\n      <td>0.0</td>\n      <td>0.0</td>\n      <td>0.0</td>\n      <td>0.0</td>\n      <td>0.0</td>\n      <td>0.0</td>\n      <td>0.0</td>\n      <td>0.0</td>\n      <td>0.0</td>\n      <td>0.0</td>\n      <td>0.0</td>\n      <td>0.0</td>\n      <td>0.0</td>\n      <td>0.0</td>\n      <td>0.0</td>\n      <td>0.0</td>\n      <td>0.0</td>\n      <td>0.0</td>\n      <td>0.0</td>\n      <td>0.0</td>\n      <td>0.0</td>\n      <td>0.0</td>\n      <td>0.0</td>\n      <td>0.0</td>\n      <td>0.0</td>\n      <td>0.0</td>\n      <td>0.0</td>\n      <td>0.0</td>\n      <td>0.0</td>\n      <td>0.0</td>\n      <td>0.0</td>\n      <td>0.0</td>\n      <td>0.0</td>\n      <td>0.0</td>\n      <td>0.0</td>\n      <td>0.0</td>\n      <td>0.0</td>\n      <td>0.0</td>\n      <td>0.0</td>\n      <td>0.0</td>\n      <td>0.0</td>\n      <td>0.0</td>\n      <td>0.0</td>\n      <td>0.0</td>\n      <td>0.0</td>\n      <td>0.0</td>\n      <td>0.0</td>\n      <td>0.0</td>\n      <td>0.0</td>\n      <td>0.0</td>\n      <td>0.0</td>\n      <td>0.0</td>\n      <td>0.0</td>\n      <td>0.0</td>\n      <td>0.0</td>\n      <td>0.0</td>\n      <td>0.0</td>\n      <td>0.0</td>\n      <td>0.0</td>\n      <td>0.0</td>\n      <td>0.0</td>\n      <td>0.0</td>\n      <td>0.0</td>\n      <td>0.0</td>\n      <td>0.0</td>\n      <td>0.0</td>\n      <td>0.0</td>\n      <td>0.0</td>\n      <td>0.0</td>\n      <td>0.0</td>\n      <td>0.0</td>\n      <td>0.0</td>\n      <td>0.0</td>\n      <td>0.0</td>\n      <td>0.0</td>\n      <td>1.0</td>\n      <td>-1.014025</td>\n      <td>-0.571542</td>\n      <td>1.175771</td>\n      <td>-0.707210</td>\n      <td>-0.690719</td>\n      <td>-0.617696</td>\n      <td>0.582251</td>\n      <td>-0.119074</td>\n      <td>6.385263e-02</td>\n      <td>-0.222500</td>\n      <td>1.212797</td>\n      <td>0.000000</td>\n      <td>-6.329475e-02</td>\n      <td>-1.123851e+00</td>\n      <td>-9.148949e-02</td>\n      <td>1.066452e-15</td>\n      <td>1.727638e-15</td>\n      <td>-0.950742</td>\n      <td>1.207058e-15</td>\n      <td>-2.315424</td>\n      <td>-1.152137e+00</td>\n      <td>0.056312</td>\n      <td>6.242838e-01</td>\n      <td>-0.530343</td>\n      <td>-0.849446</td>\n      <td>4.859223e-02</td>\n      <td>1.0</td>\n      <td>0.0</td>\n      <td>0.0</td>\n      <td>1.0</td>\n    </tr>\n  </tbody>\n</table>\n</div>"
          },
          "metadata": {}
        }
      ],
      "execution_count": 3,
      "metadata": {
        "collapsed": true,
        "gather": {
          "logged": 1624515425353
        },
        "jupyter": {
          "outputs_hidden": false,
          "source_hidden": false
        },
        "nteract": {
          "transient": {
            "deleting": false
          }
        }
      }
    },
    {
      "cell_type": "code",
      "source": [
        "if scale_data:\r\n",
        "    scaler = StandardScaler() #StandardScaler() #RobustScaler() # or MinMaxScaler()\r\n",
        "\r\n",
        "    X_train[num_cols] = scaler.fit_transform(X_train[num_cols])\r\n",
        "    X_test[num_cols] = scaler.transform(X_test[num_cols])\r\n",
        "\r\n",
        "    #X_train = scaler.fit_transform(X_train)\r\n",
        "    #X_test = scaler.transform(X_test)\r\n",
        "\r\n",
        "X_train, X_test = X_train.to_numpy(), X_test.to_numpy()\r\n",
        "X_train.shape, y_train.shape"
      ],
      "outputs": [
        {
          "output_type": "execute_result",
          "execution_count": 4,
          "data": {
            "text/plain": "((721512, 128), (721512, 1))"
          },
          "metadata": {}
        }
      ],
      "execution_count": 4,
      "metadata": {
        "collapsed": true,
        "jupyter": {
          "source_hidden": false,
          "outputs_hidden": false
        },
        "nteract": {
          "transient": {
            "deleting": false
          }
        },
        "gather": {
          "logged": 1624515425535
        }
      }
    },
    {
      "cell_type": "code",
      "source": [
        "model = LGBMRegressor(n_jobs=-1)\r\n",
        "\r\n",
        "n_scores = cross_val_score(model, X_train, y_train, scoring='neg_mean_absolute_error', cv=cv, n_jobs=-1, error_score='raise')\r\n",
        "print('MAE: %.3f (%.3f)' % (np.mean(n_scores), np.std(n_scores)))"
      ],
      "outputs": [
        {
          "output_type": "stream",
          "name": "stdout",
          "text": [
            "MAE: -2.113 (0.004)\n"
          ]
        }
      ],
      "execution_count": 5,
      "metadata": {
        "collapsed": true,
        "gather": {
          "logged": 1624515455233
        },
        "jupyter": {
          "outputs_hidden": false,
          "source_hidden": false
        },
        "nteract": {
          "transient": {
            "deleting": false
          }
        }
      }
    },
    {
      "cell_type": "code",
      "source": [
        "model = CatBoostRegressor(thread_count=-1)\r\n",
        "\r\n",
        "n_scores = cross_val_score(model, X_train, y_train, scoring='neg_mean_absolute_error', cv=cv, n_jobs=-1, error_score='raise')\r\n",
        "print('MAE: %.3f (%.3f)' % (np.mean(n_scores), np.std(n_scores)))"
      ],
      "outputs": [
        {
          "output_type": "stream",
          "name": "stdout",
          "text": [
            "MAE: -2.085 (0.004)\n"
          ]
        }
      ],
      "execution_count": 6,
      "metadata": {
        "collapsed": true,
        "jupyter": {
          "source_hidden": false,
          "outputs_hidden": false
        },
        "nteract": {
          "transient": {
            "deleting": false
          }
        },
        "gather": {
          "logged": 1624515683229
        }
      }
    },
    {
      "cell_type": "code",
      "source": [
        "model = XGBRegressor(n_jobs=-1)\r\n",
        "\r\n",
        "n_scores = cross_val_score(model, X_train, y_train, scoring='neg_mean_absolute_error', cv=cv, n_jobs=-1, error_score='raise')\r\n",
        "print('MAE: %.3f (%.3f)' % (np.mean(n_scores), np.std(n_scores)))"
      ],
      "outputs": [
        {
          "output_type": "error",
          "ename": "KeyboardInterrupt",
          "evalue": "",
          "traceback": [
            "\u001b[0;31m---------------------------------------------------------------------------\u001b[0m",
            "\u001b[0;31mKeyboardInterrupt\u001b[0m                         Traceback (most recent call last)",
            "\u001b[0;32m<ipython-input-7-830640486f87>\u001b[0m in \u001b[0;36m<module>\u001b[0;34m\u001b[0m\n\u001b[1;32m      1\u001b[0m \u001b[0mmodel\u001b[0m \u001b[0;34m=\u001b[0m \u001b[0mXGBRegressor\u001b[0m\u001b[0;34m(\u001b[0m\u001b[0mn_jobs\u001b[0m\u001b[0;34m=\u001b[0m\u001b[0;34m-\u001b[0m\u001b[0;36m1\u001b[0m\u001b[0;34m)\u001b[0m\u001b[0;34m\u001b[0m\u001b[0;34m\u001b[0m\u001b[0m\n\u001b[1;32m      2\u001b[0m \u001b[0;34m\u001b[0m\u001b[0m\n\u001b[0;32m----> 3\u001b[0;31m \u001b[0mn_scores\u001b[0m \u001b[0;34m=\u001b[0m \u001b[0mcross_val_score\u001b[0m\u001b[0;34m(\u001b[0m\u001b[0mmodel\u001b[0m\u001b[0;34m,\u001b[0m \u001b[0mX_train\u001b[0m\u001b[0;34m,\u001b[0m \u001b[0my_train\u001b[0m\u001b[0;34m,\u001b[0m \u001b[0mscoring\u001b[0m\u001b[0;34m=\u001b[0m\u001b[0;34m'neg_mean_absolute_error'\u001b[0m\u001b[0;34m,\u001b[0m \u001b[0mcv\u001b[0m\u001b[0;34m=\u001b[0m\u001b[0mcv\u001b[0m\u001b[0;34m,\u001b[0m \u001b[0mn_jobs\u001b[0m\u001b[0;34m=\u001b[0m\u001b[0;34m-\u001b[0m\u001b[0;36m1\u001b[0m\u001b[0;34m,\u001b[0m \u001b[0merror_score\u001b[0m\u001b[0;34m=\u001b[0m\u001b[0;34m'raise'\u001b[0m\u001b[0;34m)\u001b[0m\u001b[0;34m\u001b[0m\u001b[0;34m\u001b[0m\u001b[0m\n\u001b[0m\u001b[1;32m      4\u001b[0m \u001b[0mprint\u001b[0m\u001b[0;34m(\u001b[0m\u001b[0;34m'MAE: %.3f (%.3f)'\u001b[0m \u001b[0;34m%\u001b[0m \u001b[0;34m(\u001b[0m\u001b[0mnp\u001b[0m\u001b[0;34m.\u001b[0m\u001b[0mmean\u001b[0m\u001b[0;34m(\u001b[0m\u001b[0mn_scores\u001b[0m\u001b[0;34m)\u001b[0m\u001b[0;34m,\u001b[0m \u001b[0mnp\u001b[0m\u001b[0;34m.\u001b[0m\u001b[0mstd\u001b[0m\u001b[0;34m(\u001b[0m\u001b[0mn_scores\u001b[0m\u001b[0;34m)\u001b[0m\u001b[0;34m)\u001b[0m\u001b[0;34m)\u001b[0m\u001b[0;34m\u001b[0m\u001b[0;34m\u001b[0m\u001b[0m\n",
            "\u001b[0;32m/anaconda/envs/azureml_py36/lib/python3.6/site-packages/sklearn/model_selection/_validation.py\u001b[0m in \u001b[0;36mcross_val_score\u001b[0;34m(estimator, X, y, groups, scoring, cv, n_jobs, verbose, fit_params, pre_dispatch, error_score)\u001b[0m\n\u001b[1;32m    388\u001b[0m                                 \u001b[0mfit_params\u001b[0m\u001b[0;34m=\u001b[0m\u001b[0mfit_params\u001b[0m\u001b[0;34m,\u001b[0m\u001b[0;34m\u001b[0m\u001b[0;34m\u001b[0m\u001b[0m\n\u001b[1;32m    389\u001b[0m                                 \u001b[0mpre_dispatch\u001b[0m\u001b[0;34m=\u001b[0m\u001b[0mpre_dispatch\u001b[0m\u001b[0;34m,\u001b[0m\u001b[0;34m\u001b[0m\u001b[0;34m\u001b[0m\u001b[0m\n\u001b[0;32m--> 390\u001b[0;31m                                 error_score=error_score)\n\u001b[0m\u001b[1;32m    391\u001b[0m     \u001b[0;32mreturn\u001b[0m \u001b[0mcv_results\u001b[0m\u001b[0;34m[\u001b[0m\u001b[0;34m'test_score'\u001b[0m\u001b[0;34m]\u001b[0m\u001b[0;34m\u001b[0m\u001b[0;34m\u001b[0m\u001b[0m\n\u001b[1;32m    392\u001b[0m \u001b[0;34m\u001b[0m\u001b[0m\n",
            "\u001b[0;32m/anaconda/envs/azureml_py36/lib/python3.6/site-packages/sklearn/model_selection/_validation.py\u001b[0m in \u001b[0;36mcross_validate\u001b[0;34m(estimator, X, y, groups, scoring, cv, n_jobs, verbose, fit_params, pre_dispatch, return_train_score, return_estimator, error_score)\u001b[0m\n\u001b[1;32m    234\u001b[0m             \u001b[0mreturn_times\u001b[0m\u001b[0;34m=\u001b[0m\u001b[0;32mTrue\u001b[0m\u001b[0;34m,\u001b[0m \u001b[0mreturn_estimator\u001b[0m\u001b[0;34m=\u001b[0m\u001b[0mreturn_estimator\u001b[0m\u001b[0;34m,\u001b[0m\u001b[0;34m\u001b[0m\u001b[0;34m\u001b[0m\u001b[0m\n\u001b[1;32m    235\u001b[0m             error_score=error_score)\n\u001b[0;32m--> 236\u001b[0;31m         for train, test in cv.split(X, y, groups))\n\u001b[0m\u001b[1;32m    237\u001b[0m \u001b[0;34m\u001b[0m\u001b[0m\n\u001b[1;32m    238\u001b[0m     \u001b[0mzipped_scores\u001b[0m \u001b[0;34m=\u001b[0m \u001b[0mlist\u001b[0m\u001b[0;34m(\u001b[0m\u001b[0mzip\u001b[0m\u001b[0;34m(\u001b[0m\u001b[0;34m*\u001b[0m\u001b[0mscores\u001b[0m\u001b[0;34m)\u001b[0m\u001b[0;34m)\u001b[0m\u001b[0;34m\u001b[0m\u001b[0;34m\u001b[0m\u001b[0m\n",
            "\u001b[0;32m/anaconda/envs/azureml_py36/lib/python3.6/site-packages/joblib/parallel.py\u001b[0m in \u001b[0;36m__call__\u001b[0;34m(self, iterable)\u001b[0m\n\u001b[1;32m   1015\u001b[0m \u001b[0;34m\u001b[0m\u001b[0m\n\u001b[1;32m   1016\u001b[0m             \u001b[0;32mwith\u001b[0m \u001b[0mself\u001b[0m\u001b[0;34m.\u001b[0m\u001b[0m_backend\u001b[0m\u001b[0;34m.\u001b[0m\u001b[0mretrieval_context\u001b[0m\u001b[0;34m(\u001b[0m\u001b[0;34m)\u001b[0m\u001b[0;34m:\u001b[0m\u001b[0;34m\u001b[0m\u001b[0;34m\u001b[0m\u001b[0m\n\u001b[0;32m-> 1017\u001b[0;31m                 \u001b[0mself\u001b[0m\u001b[0;34m.\u001b[0m\u001b[0mretrieve\u001b[0m\u001b[0;34m(\u001b[0m\u001b[0;34m)\u001b[0m\u001b[0;34m\u001b[0m\u001b[0;34m\u001b[0m\u001b[0m\n\u001b[0m\u001b[1;32m   1018\u001b[0m             \u001b[0;31m# Make sure that we get a last message telling us we are done\u001b[0m\u001b[0;34m\u001b[0m\u001b[0;34m\u001b[0m\u001b[0;34m\u001b[0m\u001b[0m\n\u001b[1;32m   1019\u001b[0m             \u001b[0melapsed_time\u001b[0m \u001b[0;34m=\u001b[0m \u001b[0mtime\u001b[0m\u001b[0;34m.\u001b[0m\u001b[0mtime\u001b[0m\u001b[0;34m(\u001b[0m\u001b[0;34m)\u001b[0m \u001b[0;34m-\u001b[0m \u001b[0mself\u001b[0m\u001b[0;34m.\u001b[0m\u001b[0m_start_time\u001b[0m\u001b[0;34m\u001b[0m\u001b[0;34m\u001b[0m\u001b[0m\n",
            "\u001b[0;32m/anaconda/envs/azureml_py36/lib/python3.6/site-packages/joblib/parallel.py\u001b[0m in \u001b[0;36mretrieve\u001b[0;34m(self)\u001b[0m\n\u001b[1;32m    907\u001b[0m             \u001b[0;32mtry\u001b[0m\u001b[0;34m:\u001b[0m\u001b[0;34m\u001b[0m\u001b[0;34m\u001b[0m\u001b[0m\n\u001b[1;32m    908\u001b[0m                 \u001b[0;32mif\u001b[0m \u001b[0mgetattr\u001b[0m\u001b[0;34m(\u001b[0m\u001b[0mself\u001b[0m\u001b[0;34m.\u001b[0m\u001b[0m_backend\u001b[0m\u001b[0;34m,\u001b[0m \u001b[0;34m'supports_timeout'\u001b[0m\u001b[0;34m,\u001b[0m \u001b[0;32mFalse\u001b[0m\u001b[0;34m)\u001b[0m\u001b[0;34m:\u001b[0m\u001b[0;34m\u001b[0m\u001b[0;34m\u001b[0m\u001b[0m\n\u001b[0;32m--> 909\u001b[0;31m                     \u001b[0mself\u001b[0m\u001b[0;34m.\u001b[0m\u001b[0m_output\u001b[0m\u001b[0;34m.\u001b[0m\u001b[0mextend\u001b[0m\u001b[0;34m(\u001b[0m\u001b[0mjob\u001b[0m\u001b[0;34m.\u001b[0m\u001b[0mget\u001b[0m\u001b[0;34m(\u001b[0m\u001b[0mtimeout\u001b[0m\u001b[0;34m=\u001b[0m\u001b[0mself\u001b[0m\u001b[0;34m.\u001b[0m\u001b[0mtimeout\u001b[0m\u001b[0;34m)\u001b[0m\u001b[0;34m)\u001b[0m\u001b[0;34m\u001b[0m\u001b[0;34m\u001b[0m\u001b[0m\n\u001b[0m\u001b[1;32m    910\u001b[0m                 \u001b[0;32melse\u001b[0m\u001b[0;34m:\u001b[0m\u001b[0;34m\u001b[0m\u001b[0;34m\u001b[0m\u001b[0m\n\u001b[1;32m    911\u001b[0m                     \u001b[0mself\u001b[0m\u001b[0;34m.\u001b[0m\u001b[0m_output\u001b[0m\u001b[0;34m.\u001b[0m\u001b[0mextend\u001b[0m\u001b[0;34m(\u001b[0m\u001b[0mjob\u001b[0m\u001b[0;34m.\u001b[0m\u001b[0mget\u001b[0m\u001b[0;34m(\u001b[0m\u001b[0;34m)\u001b[0m\u001b[0;34m)\u001b[0m\u001b[0;34m\u001b[0m\u001b[0;34m\u001b[0m\u001b[0m\n",
            "\u001b[0;32m/anaconda/envs/azureml_py36/lib/python3.6/site-packages/joblib/_parallel_backends.py\u001b[0m in \u001b[0;36mwrap_future_result\u001b[0;34m(future, timeout)\u001b[0m\n\u001b[1;32m    560\u001b[0m         AsyncResults.get from multiprocessing.\"\"\"\n\u001b[1;32m    561\u001b[0m         \u001b[0;32mtry\u001b[0m\u001b[0;34m:\u001b[0m\u001b[0;34m\u001b[0m\u001b[0;34m\u001b[0m\u001b[0m\n\u001b[0;32m--> 562\u001b[0;31m             \u001b[0;32mreturn\u001b[0m \u001b[0mfuture\u001b[0m\u001b[0;34m.\u001b[0m\u001b[0mresult\u001b[0m\u001b[0;34m(\u001b[0m\u001b[0mtimeout\u001b[0m\u001b[0;34m=\u001b[0m\u001b[0mtimeout\u001b[0m\u001b[0;34m)\u001b[0m\u001b[0;34m\u001b[0m\u001b[0;34m\u001b[0m\u001b[0m\n\u001b[0m\u001b[1;32m    563\u001b[0m         \u001b[0;32mexcept\u001b[0m \u001b[0mLokyTimeoutError\u001b[0m\u001b[0;34m:\u001b[0m\u001b[0;34m\u001b[0m\u001b[0;34m\u001b[0m\u001b[0m\n\u001b[1;32m    564\u001b[0m             \u001b[0;32mraise\u001b[0m \u001b[0mTimeoutError\u001b[0m\u001b[0;34m(\u001b[0m\u001b[0;34m)\u001b[0m\u001b[0;34m\u001b[0m\u001b[0;34m\u001b[0m\u001b[0m\n",
            "\u001b[0;32m/anaconda/envs/azureml_py36/lib/python3.6/concurrent/futures/_base.py\u001b[0m in \u001b[0;36mresult\u001b[0;34m(self, timeout)\u001b[0m\n\u001b[1;32m    425\u001b[0m                 \u001b[0;32mreturn\u001b[0m \u001b[0mself\u001b[0m\u001b[0;34m.\u001b[0m\u001b[0m__get_result\u001b[0m\u001b[0;34m(\u001b[0m\u001b[0;34m)\u001b[0m\u001b[0;34m\u001b[0m\u001b[0;34m\u001b[0m\u001b[0m\n\u001b[1;32m    426\u001b[0m \u001b[0;34m\u001b[0m\u001b[0m\n\u001b[0;32m--> 427\u001b[0;31m             \u001b[0mself\u001b[0m\u001b[0;34m.\u001b[0m\u001b[0m_condition\u001b[0m\u001b[0;34m.\u001b[0m\u001b[0mwait\u001b[0m\u001b[0;34m(\u001b[0m\u001b[0mtimeout\u001b[0m\u001b[0;34m)\u001b[0m\u001b[0;34m\u001b[0m\u001b[0;34m\u001b[0m\u001b[0m\n\u001b[0m\u001b[1;32m    428\u001b[0m \u001b[0;34m\u001b[0m\u001b[0m\n\u001b[1;32m    429\u001b[0m             \u001b[0;32mif\u001b[0m \u001b[0mself\u001b[0m\u001b[0;34m.\u001b[0m\u001b[0m_state\u001b[0m \u001b[0;32min\u001b[0m \u001b[0;34m[\u001b[0m\u001b[0mCANCELLED\u001b[0m\u001b[0;34m,\u001b[0m \u001b[0mCANCELLED_AND_NOTIFIED\u001b[0m\u001b[0;34m]\u001b[0m\u001b[0;34m:\u001b[0m\u001b[0;34m\u001b[0m\u001b[0;34m\u001b[0m\u001b[0m\n",
            "\u001b[0;32m/anaconda/envs/azureml_py36/lib/python3.6/threading.py\u001b[0m in \u001b[0;36mwait\u001b[0;34m(self, timeout)\u001b[0m\n\u001b[1;32m    293\u001b[0m         \u001b[0;32mtry\u001b[0m\u001b[0;34m:\u001b[0m    \u001b[0;31m# restore state no matter what (e.g., KeyboardInterrupt)\u001b[0m\u001b[0;34m\u001b[0m\u001b[0;34m\u001b[0m\u001b[0m\n\u001b[1;32m    294\u001b[0m             \u001b[0;32mif\u001b[0m \u001b[0mtimeout\u001b[0m \u001b[0;32mis\u001b[0m \u001b[0;32mNone\u001b[0m\u001b[0;34m:\u001b[0m\u001b[0;34m\u001b[0m\u001b[0;34m\u001b[0m\u001b[0m\n\u001b[0;32m--> 295\u001b[0;31m                 \u001b[0mwaiter\u001b[0m\u001b[0;34m.\u001b[0m\u001b[0macquire\u001b[0m\u001b[0;34m(\u001b[0m\u001b[0;34m)\u001b[0m\u001b[0;34m\u001b[0m\u001b[0;34m\u001b[0m\u001b[0m\n\u001b[0m\u001b[1;32m    296\u001b[0m                 \u001b[0mgotit\u001b[0m \u001b[0;34m=\u001b[0m \u001b[0;32mTrue\u001b[0m\u001b[0;34m\u001b[0m\u001b[0;34m\u001b[0m\u001b[0m\n\u001b[1;32m    297\u001b[0m             \u001b[0;32melse\u001b[0m\u001b[0;34m:\u001b[0m\u001b[0;34m\u001b[0m\u001b[0;34m\u001b[0m\u001b[0m\n",
            "\u001b[0;31mKeyboardInterrupt\u001b[0m: "
          ]
        }
      ],
      "execution_count": 7,
      "metadata": {
        "collapsed": true,
        "gather": {
          "logged": 1624443361225
        },
        "jupyter": {
          "outputs_hidden": false,
          "source_hidden": false
        },
        "nteract": {
          "transient": {
            "deleting": false
          }
        }
      }
    },
    {
      "cell_type": "code",
      "source": [
        "model = RandomForestRegressor(random_state=42, n_jobs=-1)\r\n",
        "                    \r\n",
        "n_scores = cross_val_score(model, X_train, y_train, scoring='neg_mean_absolute_error', cv=cv, n_jobs=-1, error_score='raise')\r\n",
        "print('MAE: %.3f (%.3f)' % (np.mean(n_scores), np.std(n_scores)))"
      ],
      "outputs": [],
      "execution_count": null,
      "metadata": {
        "gather": {
          "logged": 1624443091689
        }
      }
    },
    {
      "cell_type": "code",
      "source": [
        "# Ensemble regressors\r\n",
        "reg1 = GradientBoostingRegressor(random_state=1)\r\n",
        "reg2 = RandomForestRegressor(random_state=42, n_jobs=-1) # takes longest\r\n",
        "reg3 = SGDRegressor(max_iter=1000, tol=1e-3)\r\n",
        "reg4 = XGBRegressor(n_jobs=-1)\r\n",
        "reg5 = LGBMRegressor(n_jobs=-1)\r\n",
        "reg6 = CatBoostRegressor(thread_count=-1)"
      ],
      "outputs": [],
      "execution_count": null,
      "metadata": {
        "gather": {
          "logged": 1624443361326
        }
      }
    },
    {
      "cell_type": "code",
      "source": [
        "vote_reg = VotingRegressor(estimators=[('gb', reg1), ('rf', reg2), ('sgd', reg3), ('xgbr', reg4), ('lgbmr', reg5), ('cbr', reg6)])\r\n",
        "\r\n",
        "n_scores = cross_val_score(vote_reg, X_train, y_train, scoring='neg_mean_absolute_error', cv=cv, n_jobs=-1, error_score='raise')\r\n",
        "print('MAE: %.3f (%.3f)' % (np.mean(n_scores), np.std(n_scores)))"
      ],
      "outputs": [],
      "execution_count": null,
      "metadata": {
        "collapsed": true,
        "jupyter": {
          "source_hidden": false,
          "outputs_hidden": false
        },
        "nteract": {
          "transient": {
            "deleting": false
          }
        },
        "gather": {
          "logged": 1624445008670
        }
      }
    },
    {
      "cell_type": "code",
      "source": [
        "stack_reg = StackingRegressor(\r\n",
        "    estimators=[('gb', reg1), ('rf', reg2), ('lr', reg3), ('xgbr', reg4), ('lgbmr', reg5), ('cbr', reg6)],\r\n",
        "    final_estimator=XGBRegressor()\r\n",
        ")\r\n",
        "\r\n",
        "n_scores = cross_val_score(stack_reg, X_train, y_train, scoring='neg_mean_absolute_error', cv=cv, n_jobs=-1, error_score='raise')\r\n",
        "print('MAE: %.3f (%.3f)' % (np.mean(n_scores), np.std(n_scores)))"
      ],
      "outputs": [],
      "execution_count": null,
      "metadata": {
        "collapsed": true,
        "gather": {
          "logged": 1624364101854
        },
        "jupyter": {
          "outputs_hidden": false,
          "source_hidden": false
        },
        "nteract": {
          "transient": {
            "deleting": false
          }
        }
      }
    },
    {
      "cell_type": "code",
      "source": [
        "stack_reg.fit(X_train, y_train)\r\n",
        "print('lRMSE: %.3f' % mean_squared_log_error(y_test, stack_reg.predict(X_test)))"
      ],
      "outputs": [],
      "execution_count": null,
      "metadata": {
        "collapsed": true,
        "gather": {
          "logged": 1624366217459
        },
        "jupyter": {
          "outputs_hidden": false,
          "source_hidden": false
        },
        "nteract": {
          "transient": {
            "deleting": false
          }
        }
      }
    },
    {
      "cell_type": "code",
      "source": [
        "model = CatBoostRegressor(eval_metric='MAE', thread_count=-1, metric_period=100)\r\n",
        "model.fit(X_train, y_train)"
      ],
      "outputs": [],
      "execution_count": null,
      "metadata": {
        "collapsed": true,
        "jupyter": {
          "source_hidden": false,
          "outputs_hidden": false
        },
        "nteract": {
          "transient": {
            "deleting": false
          }
        },
        "gather": {
          "logged": 1624437237004
        }
      }
    },
    {
      "cell_type": "code",
      "source": [
        "print(\"MAE: \", mean_absolute_error(y_test, model.predict(X_test)))\r\n",
        "for i in range(10):\r\n",
        "    test_item = X_test[i].reshape(1, -1)\r\n",
        "    print(\"GT: \", y_test[i])\r\n",
        "    print(\"Regressor: \", model.predict(test_item))"
      ],
      "outputs": [],
      "execution_count": null,
      "metadata": {
        "collapsed": true,
        "jupyter": {
          "source_hidden": false,
          "outputs_hidden": false
        },
        "nteract": {
          "transient": {
            "deleting": false
          }
        },
        "gather": {
          "logged": 1624437237261
        }
      }
    }
  ],
  "metadata": {
    "kernel_info": {
      "name": "python3-azureml"
    },
    "kernelspec": {
      "name": "python3-azureml",
      "language": "python",
      "display_name": "Python 3.6 - AzureML"
    },
    "language_info": {
      "name": "python",
      "version": "3.6.9",
      "mimetype": "text/x-python",
      "codemirror_mode": {
        "name": "ipython",
        "version": 3
      },
      "pygments_lexer": "ipython3",
      "nbconvert_exporter": "python",
      "file_extension": ".py"
    },
    "microsoft": {
      "host": {
        "AzureML": {
          "notebookHasBeenCompleted": true
        }
      }
    },
    "nteract": {
      "version": "nteract-front-end@1.0.0"
    },
    "orig_nbformat": 2
  },
  "nbformat": 4,
  "nbformat_minor": 2
}