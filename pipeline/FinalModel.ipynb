{
  "cells": [
    {
      "cell_type": "code",
      "execution_count": 12,
      "metadata": {
        "gather": {
          "logged": 1625138629043
        }
      },
      "outputs": [],
      "source": [
        "import numpy as np\n",
        "import pandas as pd\n",
        "import torch\n",
        "import tqdm\n",
        "import os\n",
        "import matplotlib.pyplot as plt\n",
        "\n",
        "from sklearn.model_selection import train_test_split\n",
        "from sklearn.datasets import load_boston, make_classification, make_regression\n",
        "from sklearn.preprocessing import MinMaxScaler, OneHotEncoder, LabelEncoder, StandardScaler, RobustScaler\n",
        "from sklearn import metrics\n",
        "from sklearn.metrics import mean_squared_error, mean_squared_log_error, mean_absolute_error, median_absolute_error\n",
        "\n",
        "from lightgbm import LGBMRegressor\n",
        "\n",
        "pd.options.display.max_columns = None"
      ]
    },
    {
      "cell_type": "code",
      "execution_count": 2,
      "metadata": {
        "collapsed": true,
        "gather": {
          "logged": 1625137196384
        },
        "jupyter": {
          "outputs_hidden": false,
          "source_hidden": false
        },
        "nteract": {
          "transient": {
            "deleting": false
          }
        }
      },
      "outputs": [],
      "source": [
        "cat_cols = ['TODO']\n",
        "num_cols = ['TODO']"
      ]
    },
    {
      "cell_type": "code",
      "execution_count": 9,
      "metadata": {
        "collapsed": true,
        "gather": {
          "logged": 1625137367724
        },
        "jupyter": {
          "outputs_hidden": false,
          "source_hidden": false
        },
        "nteract": {
          "transient": {
            "deleting": false
          }
        }
      },
      "outputs": [],
      "source": [
        "X_train = pd.read_csv('data/X_train.csv')\n",
        "X_valid = pd.read_csv('data/X_valid.csv')\n",
        "y_train = pd.read_csv('data/y_train.csv')\n",
        "y_valid = pd.read_csv('data/y_valid.csv')"
      ]
    },
    {
      "cell_type": "code",
      "execution_count": 13,
      "metadata": {
        "collapsed": true,
        "gather": {
          "logged": 1625138655172
        },
        "jupyter": {
          "outputs_hidden": false,
          "source_hidden": false
        },
        "nteract": {
          "transient": {
            "deleting": false
          }
        }
      },
      "outputs": [
        {
          "name": "stdout",
          "output_type": "stream",
          "text": [
            "Train MAE:  2.0317840233479054\n",
            "MeanAE:  2.0641994975445517\n",
            "MedianAE:  1.4483482767917746\n"
          ]
        }
      ],
      "source": [
        "model = LGBMRegressor(n_jobs=-1, objective=\"regression_l1\")\n",
        "model.fit(X_train, y_train)\n",
        "\n",
        "print(\"Train MAE: \", mean_absolute_error(y_train, model.predict(X_train)))\n",
        "print(\"MeanAE: \", mean_absolute_error(y_valid, model.predict(X_valid)))\n",
        "print(\"MedianAE: \", median_absolute_error(y_valid, model.predict(X_valid)))"
      ]
    },
    {
      "cell_type": "code",
      "execution_count": 11,
      "metadata": {
        "collapsed": true,
        "gather": {
          "logged": 1625138628880
        },
        "jupyter": {
          "outputs_hidden": false,
          "source_hidden": false
        },
        "nteract": {
          "transient": {
            "deleting": false
          }
        }
      },
      "outputs": [
        {
          "name": "stdout",
          "output_type": "stream",
          "text": [
            "Train MAE:  1.9297663520882544\n",
            "MeanAE:  2.02428259663832\n",
            "MedianAE:  1.3721584083552105\n"
          ]
        }
      ],
      "source": [
        "model = LGBMRegressor(n_jobs=-1, objective=\"regression_l1\",\n",
        "            boosting_type='dart',\n",
        "            learning_rate=0.13110563910426518,\n",
        "            max_depth=50,\n",
        "            n_estimators=1000,\n",
        "            num_leaves=200,\n",
        "            reg_alpha=1.5921278701590583e-05,\n",
        "            reg_lambda=1.0,\n",
        "            subsample_for_bin=200000\n",
        ")\n",
        "\n",
        "model.fit(X_train, y_train)\n",
        "\n",
        "print(\"Train MAE: \", mean_absolute_error(y_train, model.predict(X_train)))\n",
        "print(\"MeanAE: \", mean_absolute_error(y_valid, model.predict(X_valid)))\n",
        "print(\"MedianAE: \", median_absolute_error(y_valid, model.predict(X_valid)))"
      ]
    },
    {
      "cell_type": "code",
      "execution_count": null,
      "metadata": {
        "collapsed": true,
        "jupyter": {
          "outputs_hidden": false,
          "source_hidden": false
        },
        "nteract": {
          "transient": {
            "deleting": false
          }
        }
      },
      "outputs": [],
      "source": [
        "X_test = pd.read_csv(\"data/X_test.csv\")\n",
        "X_test.head()"
      ]
    },
    {
      "cell_type": "code",
      "execution_count": null,
      "metadata": {
        "collapsed": true,
        "jupyter": {
          "outputs_hidden": false,
          "source_hidden": false
        },
        "nteract": {
          "transient": {
            "deleting": false
          }
        }
      },
      "outputs": [],
      "source": [
        "sub_df = X_test['label']\n",
        "sub_df['label'] = model.predict(X_test.drop('label'))\n",
        "sub_df.head()"
      ]
    },
    {
      "cell_type": "code",
      "execution_count": null,
      "metadata": {
        "collapsed": true,
        "jupyter": {
          "outputs_hidden": false,
          "source_hidden": false
        },
        "nteract": {
          "transient": {
            "deleting": false
          }
        }
      },
      "outputs": [],
      "source": [
        "sub_df.to_csv(\"data/submission.csv\")"
      ]
    }
  ],
  "metadata": {
    "kernel_info": {
      "name": "python3-azureml"
    },
    "kernelspec": {
      "display_name": "Python 3.6 - AzureML",
      "language": "python",
      "name": "python3-azureml"
    },
    "language_info": {
      "codemirror_mode": {
        "name": "ipython",
        "version": 3
      },
      "file_extension": ".py",
      "mimetype": "text/x-python",
      "name": "python",
      "nbconvert_exporter": "python",
      "pygments_lexer": "ipython3",
      "version": "3.6.9"
    },
    "microsoft": {
      "host": {
        "AzureML": {
          "notebookHasBeenCompleted": true
        }
      }
    },
    "nteract": {
      "version": "nteract-front-end@1.0.0"
    }
  },
  "nbformat": 4,
  "nbformat_minor": 2
}
