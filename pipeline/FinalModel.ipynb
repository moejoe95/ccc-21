{
  "cells": [
    {
      "cell_type": "code",
      "source": [
        "import numpy as np\r\n",
        "import pandas as pd\r\n",
        "import torch\r\n",
        "import tqdm\r\n",
        "import os\r\n",
        "import matplotlib.pyplot as plt\r\n",
        "\r\n",
        "from sklearn.model_selection import train_test_split\r\n",
        "from sklearn.datasets import load_boston, make_classification, make_regression\r\n",
        "from sklearn.preprocessing import MinMaxScaler, OneHotEncoder, LabelEncoder, StandardScaler, RobustScaler\r\n",
        "from sklearn import metrics\r\n",
        "from sklearn.metrics import mean_squared_error, mean_squared_log_error, mean_absolute_error, median_absolute_error\r\n",
        "\r\n",
        "from lightgbm import LGBMRegressor\r\n",
        "\r\n",
        "pd.options.display.max_columns = None"
      ],
      "outputs": [],
      "execution_count": 12,
      "metadata": {
        "gather": {
          "logged": 1625138629043
        }
      }
    },
    {
      "cell_type": "code",
      "source": [
        "cat_cols = ['Neutered/Spayed', 'Gender', 'MIXED_BREED_FLAG', 'BREED', 'neuter_dt_bool']\r\n",
        "num_cols = ['DW_PET_ID', 'ALB', 'ALKP', 'ALT', 'AMYL', 'BUN', 'CA', 'CHOL', 'CREA', 'EOSINOPHIL', 'GLOB', 'GLU',\r\n",
        "       'HCT', 'HGB', 'LYMPHOCYTE', 'MCH', 'MCHC', 'MCV', 'MONOCYTE', 'MPV',\r\n",
        "       'PHOS', 'PLT', 'RBC', 'RDW', 'TBIL', 'TP', 'WBC']"
      ],
      "outputs": [],
      "execution_count": 2,
      "metadata": {
        "collapsed": true,
        "jupyter": {
          "source_hidden": false,
          "outputs_hidden": false
        },
        "nteract": {
          "transient": {
            "deleting": false
          }
        },
        "gather": {
          "logged": 1625137196384
        }
      }
    },
    {
      "cell_type": "code",
      "source": [
        "X_train = pd.read_csv('data/X_train.csv')\r\n",
        "X_valid = pd.read_csv('data/X_valid.csv')\r\n",
        "y_train = pd.read_csv('data/y_train.csv')\r\n",
        "y_valid = pd.read_csv('data/y_valid.csv')"
      ],
      "outputs": [],
      "execution_count": 9,
      "metadata": {
        "collapsed": true,
        "jupyter": {
          "source_hidden": false,
          "outputs_hidden": false
        },
        "nteract": {
          "transient": {
            "deleting": false
          }
        },
        "gather": {
          "logged": 1625137367724
        }
      }
    },
    {
      "cell_type": "code",
      "source": [
        "model = LGBMRegressor(n_jobs=-1, objective=\"regression_l1\")\r\n",
        "model.fit(X_train, y_train)\r\n",
        "\r\n",
        "print(\"Train MAE: \", mean_absolute_error(y_train, model.predict(X_train)))\r\n",
        "print(\"MeanAE: \", mean_absolute_error(y_valid, model.predict(X_valid)))\r\n",
        "print(\"MedianAE: \", median_absolute_error(y_valid, model.predict(X_valid)))"
      ],
      "outputs": [
        {
          "output_type": "stream",
          "name": "stdout",
          "text": [
            "Train MAE:  2.0317840233479054\n",
            "MeanAE:  2.0641994975445517\n",
            "MedianAE:  1.4483482767917746\n"
          ]
        }
      ],
      "execution_count": 13,
      "metadata": {
        "collapsed": true,
        "jupyter": {
          "source_hidden": false,
          "outputs_hidden": false
        },
        "nteract": {
          "transient": {
            "deleting": false
          }
        },
        "gather": {
          "logged": 1625138655172
        }
      }
    },
    {
      "cell_type": "code",
      "source": [
        "model = LGBMRegressor(n_jobs=-1, objective=\"regression_l1\",\r\n",
        "            boosting_type='dart',\r\n",
        "            learning_rate=0.13110563910426518,\r\n",
        "            max_depth=50,\r\n",
        "            n_estimators=1000,\r\n",
        "            num_leaves=200,\r\n",
        "            reg_alpha=1.5921278701590583e-05,\r\n",
        "            reg_lambda=1.0,\r\n",
        "            subsample_for_bin=200000\r\n",
        ")\r\n",
        "\r\n",
        "model.fit(X_train, y_train)\r\n",
        "\r\n",
        "print(\"Train MAE: \", mean_absolute_error(y_train, model.predict(X_train)))\r\n",
        "print(\"MeanAE: \", mean_absolute_error(y_valid, model.predict(X_valid)))\r\n",
        "print(\"MedianAE: \", median_absolute_error(y_valid, model.predict(X_valid)))"
      ],
      "outputs": [
        {
          "output_type": "stream",
          "name": "stdout",
          "text": [
            "Train MAE:  1.9297663520882544\n",
            "MeanAE:  2.02428259663832\n",
            "MedianAE:  1.3721584083552105\n"
          ]
        }
      ],
      "execution_count": 11,
      "metadata": {
        "collapsed": true,
        "jupyter": {
          "source_hidden": false,
          "outputs_hidden": false
        },
        "nteract": {
          "transient": {
            "deleting": false
          }
        },
        "gather": {
          "logged": 1625138628880
        }
      }
    },
    {
      "cell_type": "code",
      "source": [
        "X_test = pd.read_csv(\"data/X_test.csv\")\r\n",
        "X_test.head()"
      ],
      "outputs": [],
      "execution_count": null,
      "metadata": {
        "collapsed": true,
        "jupyter": {
          "source_hidden": false,
          "outputs_hidden": false
        },
        "nteract": {
          "transient": {
            "deleting": false
          }
        }
      }
    },
    {
      "cell_type": "code",
      "source": [
        "sub_df = X_test['DW_PET_VST_ID']\r\n",
        "sub_df['AgeEstimate'] = model.predict(X_test.drop('DW_PET_VST_ID'))\r\n",
        "sub_df.head()"
      ],
      "outputs": [],
      "execution_count": null,
      "metadata": {
        "collapsed": true,
        "jupyter": {
          "source_hidden": false,
          "outputs_hidden": false
        },
        "nteract": {
          "transient": {
            "deleting": false
          }
        }
      }
    },
    {
      "cell_type": "code",
      "source": [
        "sub_df.to_csv(\"data/submission.csv\")"
      ],
      "outputs": [],
      "execution_count": null,
      "metadata": {
        "collapsed": true,
        "jupyter": {
          "source_hidden": false,
          "outputs_hidden": false
        },
        "nteract": {
          "transient": {
            "deleting": false
          }
        }
      }
    }
  ],
  "metadata": {
    "kernelspec": {
      "name": "python3-azureml",
      "language": "python",
      "display_name": "Python 3.6 - AzureML"
    },
    "language_info": {
      "name": "python",
      "version": "3.6.9",
      "mimetype": "text/x-python",
      "codemirror_mode": {
        "name": "ipython",
        "version": 3
      },
      "pygments_lexer": "ipython3",
      "nbconvert_exporter": "python",
      "file_extension": ".py"
    },
    "kernel_info": {
      "name": "python3-azureml"
    },
    "microsoft": {
      "host": {
        "AzureML": {
          "notebookHasBeenCompleted": true
        }
      }
    },
    "nteract": {
      "version": "nteract-front-end@1.0.0"
    }
  },
  "nbformat": 4,
  "nbformat_minor": 2
}