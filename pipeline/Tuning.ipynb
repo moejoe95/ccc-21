{
  "cells": [
    {
      "cell_type": "code",
      "execution_count": null,
      "metadata": {
        "gather": {
          "logged": 1625138210432
        }
      },
      "outputs": [],
      "source": [
        "import os\n",
        "import numpy as np\n",
        "import pandas as pd\n",
        "import sys \n",
        "\n",
        "import skopt\n",
        "from skopt import gp_minimize, forest_minimize, BayesSearchCV\n",
        "from skopt.space import Real, Integer, Categorical\n",
        "from skopt.plots import plot_convergence\n",
        "from skopt.utils import use_named_args\n",
        "from skopt import dump, load\n",
        "\n",
        "import lightgbm as lgb\n",
        "from lightgbm import LGBMRegressor\n",
        "import xgboost as xgb\n",
        "from xgboost import XGBRegressor\n",
        "from sklearn.model_selection import train_test_split, StratifiedKFold, cross_val_score, KFold\n",
        "from sklearn.metrics import mean_squared_error, mean_squared_log_error, mean_absolute_error\n",
        "from sklearn.preprocessing import StandardScaler, MinMaxScaler, RobustScaler\n"
      ]
    },
    {
      "cell_type": "markdown",
      "metadata": {
        "nteract": {
          "transient": {
            "deleting": false
          }
        }
      },
      "source": [
        "https://www.kaggle.com/nanomathias/bayesian-optimization-of-xgboost-lb-0-9769"
      ]
    },
    {
      "cell_type": "code",
      "execution_count": null,
      "metadata": {
        "gather": {
          "logged": 1625137991716
        }
      },
      "outputs": [],
      "source": [
        "cat_cols = ['TODO']\n",
        "num_cols = ['TODO']\n",
        "\n",
        "ITERATIONS = 100 # 1000"
      ]
    },
    {
      "cell_type": "code",
      "execution_count": null,
      "metadata": {
        "collapsed": true,
        "gather": {
          "logged": 1625138027306
        },
        "jupyter": {
          "outputs_hidden": false,
          "source_hidden": false
        },
        "nteract": {
          "transient": {
            "deleting": false
          }
        }
      },
      "outputs": [],
      "source": [
        "X_train = pd.read_csv('data/X_train_pre_simple.csv')\n",
        "X_valid = pd.read_csv('data/X_test_pre_simple.csv')\n",
        "y_train = pd.read_csv('data/y_train_pre_simple.csv')\n",
        "y_valid = pd.read_csv('data/y_test_pre_simple.csv')"
      ]
    },
    {
      "cell_type": "code",
      "execution_count": null,
      "metadata": {
        "collapsed": true,
        "gather": {
          "logged": 1625138027441
        },
        "jupyter": {
          "outputs_hidden": false,
          "source_hidden": false
        },
        "nteract": {
          "transient": {
            "deleting": false
          }
        }
      },
      "outputs": [],
      "source": [
        "def status_print(optim_result):\n",
        "    \"\"\"Status callback durring bayesian hyperparameter search\"\"\"\n",
        "    \n",
        "    # Get all the models tested so far in DataFrame format\n",
        "    all_models = pd.DataFrame(bayes_cv_tuner.cv_results_)    \n",
        "    \n",
        "    # Get current parameters and the best parameters    \n",
        "    best_params = pd.Series(bayes_cv_tuner.best_params_)\n",
        "    print('Model #{}\\nBest neg. MAE: {}\\nBest params: {}\\n'.format(\n",
        "        len(all_models),\n",
        "        np.round(bayes_cv_tuner.best_score_, 4),\n",
        "        bayes_cv_tuner.best_params_\n",
        "    ))\n",
        "    \n",
        "    # Save all model results\n",
        "    '''clf_name = bayes_cv_tuner.estimator.__class__.__name__\n",
        "    all_models.to_csv(clf_name+\"_cv_results.csv\")'''"
      ]
    },
    {
      "cell_type": "code",
      "execution_count": null,
      "metadata": {
        "collapsed": true,
        "gather": {
          "logged": 1624000786942
        },
        "jupyter": {
          "outputs_hidden": false,
          "source_hidden": false
        },
        "nteract": {
          "transient": {
            "deleting": false
          }
        }
      },
      "outputs": [],
      "source": [
        "# LGBMRegressor\n",
        "bayes_cv_tuner = BayesSearchCV(\n",
        "    estimator = lgb.LGBMRegressor(\n",
        "        objective='regression_l1',\n",
        "        #metric=['l2', 'auc'],\n",
        "        n_jobs=-1,\n",
        "        verbose=0\n",
        "    ),\n",
        "    search_spaces = {\n",
        "        'boosting_type': ['gbdt', 'dart'],\n",
        "        'learning_rate': (0.001, 1.0, 'log-uniform'),\n",
        "        'num_leaves': (5, 200),      \n",
        "        'max_depth': (-1, 50),\n",
        "        'n_estimators': (10, 1000),\n",
        "        'subsample_for_bin': (50000, 200000),\n",
        "        'reg_alpha': (1e-9, 1.0, 'log-uniform'),\n",
        "        'reg_lambda': (1e-9, 1.0, 'log-uniform')\n",
        "    },    \n",
        "    scoring = 'neg_mean_absolute_error',\n",
        "    cv = KFold(\n",
        "        n_splits=3,\n",
        "        shuffle=True,\n",
        "        random_state=42\n",
        "    ),\n",
        "    n_jobs = 3,\n",
        "    n_iter = ITERATIONS,   \n",
        "    verbose = 0,\n",
        "    refit = True,\n",
        "    random_state = 42\n",
        ")\n",
        "\n",
        "# Fit the model\n",
        "result = bayes_cv_tuner.fit(X_train, y_train, callback=status_print)"
      ]
    }
  ],
  "metadata": {
    "kernel_info": {
      "name": "python38-azureml"
    },
    "kernelspec": {
      "display_name": "Python 3.8 - AzureML",
      "language": "python",
      "name": "python38-azureml"
    },
    "language_info": {
      "codemirror_mode": {
        "name": "ipython",
        "version": 3
      },
      "file_extension": ".py",
      "mimetype": "text/x-python",
      "name": "python",
      "nbconvert_exporter": "python",
      "pygments_lexer": "ipython3",
      "version": "3.8.1"
    },
    "microsoft": {
      "host": {
        "AzureML": {
          "notebookHasBeenCompleted": true
        }
      }
    },
    "nteract": {
      "version": "nteract-front-end@1.0.0"
    },
    "orig_nbformat": 2
  },
  "nbformat": 4,
  "nbformat_minor": 2
}
