{
 "cells": [
  {
   "cell_type": "code",
   "execution_count": 21,
   "metadata": {},
   "outputs": [],
   "source": [
    "import pandas as pd\n",
    "import numpy as np\n",
    "import xgboost as xgb\n",
    "import matplotlib.pyplot as plt\n",
    "import seaborn as sns\n",
    "from sklearn.preprocessing import LabelEncoder\n",
    "from sklearn.model_selection import train_test_split\n",
    "from sklearn.model_selection import GridSearchCV\n",
    "from sklearn.model_selection import StratifiedKFold\n"
   ]
  },
  {
   "cell_type": "code",
   "execution_count": 22,
   "metadata": {},
   "outputs": [],
   "source": [
    "def get_df(filename, train=True):\n",
    "    '''\n",
    "    read data and pre-process into dataframe\n",
    "    '''\n",
    "    # read train data\n",
    "    X = pd.read_csv(filename)\n",
    "\n",
    "    # select numeric columns and fill NA values\n",
    "    numeric_columns = X.select_dtypes(include=['number']).columns\n",
    "    X[numeric_columns] = X[numeric_columns].fillna(method=\"ffill\")\n",
    "\n",
    "    ids, Y = X[\"Id\"], []\n",
    "    if train:\n",
    "        Y = X[\"SalePrice\"]\n",
    "        X = X.drop([\"Id\", \"SalePrice\"], axis=1)\n",
    "    else:\n",
    "        X = X.drop([\"Id\"], axis=1)\n",
    "\n",
    "    # encode categorical data\n",
    "    to_encode = []\n",
    "    for name, values in X.iteritems():\n",
    "        try:\n",
    "            c = float(values[0])\n",
    "            if np.isnan(c):\n",
    "                raise Exception\n",
    "        except:\n",
    "            to_encode.append(name)\n",
    "\n",
    "    label_encode = X[to_encode].apply(LabelEncoder().fit_transform)\n",
    "    X = pd.concat([X, label_encode], axis=1)\n",
    "\n",
    "    # drop encoded columns\n",
    "    X = X.drop(label_encode, axis=1)\n",
    "\n",
    "    return X, Y, ids\n"
   ]
  },
  {
   "cell_type": "code",
   "execution_count": 23,
   "metadata": {},
   "outputs": [],
   "source": [
    "X, y, _ = get_df(\"data/train.csv\")\n",
    "\n",
    "# f, ax = plt.subplots(figsize=(12, 9))\n",
    "# sns.heatmap((pd.concat([X_train, y_train], axis=1).corr()))\n"
   ]
  },
  {
   "cell_type": "code",
   "execution_count": 26,
   "metadata": {},
   "outputs": [
    {
     "name": "stderr",
     "output_type": "stream",
     "text": [
      "/home/josef/.local/lib/python3.8/site-packages/sklearn/model_selection/_split.py:676: UserWarning: The least populated class in y has only 1 members, which is less than n_splits=4.\n",
      "  warnings.warn(\n"
     ]
    },
    {
     "name": "stdout",
     "output_type": "stream",
     "text": [
      "-0.01815764352797398\n",
      "{'learning_rate': 0.1, 'max_depth': 3, 'n_estimators': 150}\n"
     ]
    }
   ],
   "source": [
    "model = xgb.XGBRegressor()\n",
    "\n",
    "# do grid search and cross validation\n",
    "xgb_hyperparams = {'n_estimators': [100, 150],\n",
    "                   'learning_rate': [0.01, 0.1],\n",
    "                   'max_depth': [3, 4]}\n",
    "\n",
    "opt_model = GridSearchCV(model, xgb_hyperparams, n_jobs=4,\n",
    "                   cv=StratifiedKFold(n_splits=4, shuffle=True),\n",
    "                   scoring='neg_mean_squared_log_error')\n",
    "\n",
    "opt_model.fit(X, y)\n",
    "\n",
    "# print evaluation\n",
    "print(opt_model.best_score_)\n",
    "print(opt_model.best_params_)\n"
   ]
  },
  {
   "cell_type": "code",
   "execution_count": 27,
   "metadata": {},
   "outputs": [],
   "source": [
    "# predicting test set and create submission file\n",
    "with open(\"submission.txt\", 'w') as outfile:\n",
    "    outfile.write(\"Id,SalePrice\\n\")\n",
    "\n",
    "    X_test, _, ids = get_df(\"data/test.csv\", train=False)\n",
    "\n",
    "    preds = opt_model.predict(X_test)\n",
    "    for pred, id in zip(preds, ids):\n",
    "        outfile.write(str(id) + ',' + str(pred) + '\\n')\n"
   ]
  }
 ],
 "metadata": {
  "interpreter": {
   "hash": "31f2aee4e71d21fbe5cf8b01ff0e069b9275f58929596ceb00d14d90e3e16cd6"
  },
  "kernelspec": {
   "display_name": "Python 3.8.10 64-bit",
   "name": "python3"
  },
  "language_info": {
   "codemirror_mode": {
    "name": "ipython",
    "version": 3
   },
   "file_extension": ".py",
   "mimetype": "text/x-python",
   "name": "python",
   "nbconvert_exporter": "python",
   "pygments_lexer": "ipython3",
   "version": "3.8.10"
  },
  "orig_nbformat": 4
 },
 "nbformat": 4,
 "nbformat_minor": 2
}
